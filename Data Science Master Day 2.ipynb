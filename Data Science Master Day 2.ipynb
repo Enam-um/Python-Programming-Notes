{
 "cells": [
  {
   "cell_type": "code",
   "execution_count": 1,
   "id": "44849e68-73b1-4c75-bc42-676705fa9319",
   "metadata": {},
   "outputs": [],
   "source": [
    "a=10"
   ]
  },
  {
   "cell_type": "code",
   "execution_count": null,
   "id": "89f5c174-f05b-4926-9f38-d050449c32d0",
   "metadata": {},
   "outputs": [],
   "source": []
  },
  {
   "cell_type": "code",
   "execution_count": 4,
   "id": "6ac3824a-12e2-4175-b7a1-803af9d27df2",
   "metadata": {},
   "outputs": [],
   "source": [
    "a= 'c'"
   ]
  },
  {
   "cell_type": "code",
   "execution_count": 5,
   "id": "ed85c342-7957-444a-a311-951aa8b6cdc1",
   "metadata": {},
   "outputs": [
    {
     "data": {
      "text/plain": [
       "'c'"
      ]
     },
     "execution_count": 5,
     "metadata": {},
     "output_type": "execute_result"
    }
   ],
   "source": [
    "a"
   ]
  },
  {
   "cell_type": "code",
   "execution_count": 7,
   "id": "855466c1-fa18-42ef-b765-7fa6c90f1504",
   "metadata": {},
   "outputs": [
    {
     "data": {
      "text/plain": [
       "str"
      ]
     },
     "execution_count": 7,
     "metadata": {},
     "output_type": "execute_result"
    }
   ],
   "source": [
    "type(a)"
   ]
  },
  {
   "cell_type": "code",
   "execution_count": 9,
   "id": "fc0de7ca-01b0-48a9-8179-4d66d38658f7",
   "metadata": {},
   "outputs": [
    {
     "data": {
      "text/plain": [
       "0"
      ]
     },
     "execution_count": 9,
     "metadata": {},
     "output_type": "execute_result"
    }
   ],
   "source": [
    "int(0)"
   ]
  },
  {
   "cell_type": "code",
   "execution_count": 11,
   "id": "78d7bb16-f25a-4bea-a5dd-553bd4716ae8",
   "metadata": {},
   "outputs": [
    {
     "data": {
      "text/plain": [
       "123"
      ]
     },
     "execution_count": 11,
     "metadata": {},
     "output_type": "execute_result"
    }
   ],
   "source": [
    "int(123)"
   ]
  },
  {
   "cell_type": "code",
   "execution_count": 14,
   "id": "6a85b9e4-f8a5-45e9-8a81-a35b004add44",
   "metadata": {},
   "outputs": [
    {
     "name": "stdout",
     "output_type": "stream",
     "text": [
      "hello world\n"
     ]
    }
   ],
   "source": [
    "print('hello world')"
   ]
  },
  {
   "cell_type": "code",
   "execution_count": 17,
   "id": "e6ec098d-12d9-436a-b07d-a7813bb18988",
   "metadata": {},
   "outputs": [
    {
     "name": "stdout",
     "output_type": "stream",
     "text": [
      "my is age: 24\n"
     ]
    }
   ],
   "source": [
    "age=24\n",
    "print('my is age:',age)"
   ]
  },
  {
   "cell_type": "code",
   "execution_count": 20,
   "id": "7c7d82cc-5860-44c8-bef0-e5632ea5b1c3",
   "metadata": {},
   "outputs": [
    {
     "name": "stdout",
     "output_type": "stream",
     "text": [
      "my age is:24\n"
     ]
    }
   ],
   "source": [
    "## f string\n",
    "print(f'my age is:{age}')"
   ]
  },
  {
   "cell_type": "code",
   "execution_count": 26,
   "id": "04d5d0ec-c4fe-45bc-9651-fb52276129b6",
   "metadata": {},
   "outputs": [
    {
     "name": "stdout",
     "output_type": "stream",
     "text": [
      "my name is Enam and age is 24\n"
     ]
    }
   ],
   "source": [
    "### format()\n",
    "name = 'Enam'\n",
    "age=24\n",
    "print('my name is {} and age is {}'.format(name,age))"
   ]
  },
  {
   "cell_type": "code",
   "execution_count": 27,
   "id": "f5ff25f0-aa2a-4cd6-970b-df53cf8cd07a",
   "metadata": {},
   "outputs": [
    {
     "name": "stdout",
     "output_type": "stream",
     "text": [
      "my name is Enam and age is 24\n"
     ]
    }
   ],
   "source": [
    "print('my name is {} and age is {}'.format(name,age))"
   ]
  },
  {
   "cell_type": "code",
   "execution_count": 29,
   "id": "b20d1a9c-f5c2-4f9c-b5b8-6ea4192247e9",
   "metadata": {},
   "outputs": [
    {
     "name": "stdout",
     "output_type": "stream",
     "text": [
      "my name is Enam and age is 24\n"
     ]
    }
   ],
   "source": [
    "##placeorder\n",
    "print('my name is {firstname} and age is {firstage}'.format(firstname=name,firstage=age))"
   ]
  },
  {
   "cell_type": "code",
   "execution_count": 34,
   "id": "46cc2d82-5aab-4fe4-b9cf-d3c21d94bdd6",
   "metadata": {},
   "outputs": [
    {
     "name": "stdout",
     "output_type": "stream",
     "text": [
      "my name is Enam and age is 24 and i have competed my degree with the name of B.sc Botany\n"
     ]
    }
   ],
   "source": [
    "## format\n",
    "name='Enam'\n",
    "age=24\n",
    "degree='B.sc Botany'\n",
    "print('my name is {} and age is {} and i have competed my degree with the name of {}'.format(name,age,degree))"
   ]
  },
  {
   "cell_type": "code",
   "execution_count": 40,
   "id": "f0b240ab-62b4-4991-9be8-4213796f4eab",
   "metadata": {},
   "outputs": [
    {
     "name": "stdout",
     "output_type": "stream",
     "text": [
      "my age is: 24\n"
     ]
    }
   ],
   "source": [
    "age=24\n",
    "print('my age is:',age)"
   ]
  },
  {
   "cell_type": "markdown",
   "id": "59b6bbea-4b3a-482d-bb8a-82dd764a4acd",
   "metadata": {},
   "source": [
    "## Control Flow\n",
    "### Decission Making Statemens"
   ]
  },
  {
   "cell_type": "code",
   "execution_count": 1,
   "id": "52fa1c2a-c7e1-4756-a3af-e8dde341a621",
   "metadata": {},
   "outputs": [
    {
     "name": "stdout",
     "output_type": "stream",
     "text": [
      "0\n"
     ]
    }
   ],
   "source": [
    "print(0)"
   ]
  },
  {
   "cell_type": "code",
   "execution_count": 2,
   "id": "01d08a0d-168b-4304-96b6-06fba180de9d",
   "metadata": {},
   "outputs": [
    {
     "name": "stdout",
     "output_type": "stream",
     "text": [
      "you are not eligible to vote\n"
     ]
    }
   ],
   "source": [
    "## If Statement\n",
    "age=17\n",
    "if age<18:\n",
    "    print('you are not eligible to vote')"
   ]
  },
  {
   "cell_type": "code",
   "execution_count": 3,
   "id": "274ee31d-7a11-462e-8b2c-683ed5f9bcba",
   "metadata": {},
   "outputs": [
    {
     "data": {
      "text/plain": [
       "True"
      ]
     },
     "execution_count": 3,
     "metadata": {},
     "output_type": "execute_result"
    }
   ],
   "source": [
    "18<=18"
   ]
  },
  {
   "cell_type": "code",
   "execution_count": 3,
   "id": "4fb91a17-1a0f-43eb-9c5e-36e3f62d95b6",
   "metadata": {},
   "outputs": [
    {
     "name": "stdin",
     "output_type": "stream",
     "text": [
      "enater your age 24\n"
     ]
    }
   ],
   "source": [
    "age=int(input('enater your age'))"
   ]
  },
  {
   "cell_type": "code",
   "execution_count": 4,
   "id": "1f50c5ac-4b02-491f-b4df-f25c6437dd62",
   "metadata": {},
   "outputs": [
    {
     "data": {
      "text/plain": [
       "24"
      ]
     },
     "execution_count": 4,
     "metadata": {},
     "output_type": "execute_result"
    }
   ],
   "source": [
    "age"
   ]
  },
  {
   "cell_type": "code",
   "execution_count": 5,
   "id": "4c6e1717-c1e4-41b4-a070-abdfba95d109",
   "metadata": {},
   "outputs": [
    {
     "data": {
      "text/plain": [
       "int"
      ]
     },
     "execution_count": 5,
     "metadata": {},
     "output_type": "execute_result"
    }
   ],
   "source": [
    "type(age)"
   ]
  },
  {
   "cell_type": "code",
   "execution_count": 2,
   "id": "3535ca8a-1f2c-40f8-95eb-543907324e60",
   "metadata": {},
   "outputs": [
    {
     "name": "stdout",
     "output_type": "stream",
     "text": [
      "You are yong blood\n"
     ]
    }
   ],
   "source": [
    "## If statement \n",
    "age=18\n",
    "if age>=18:\n",
    "    print('You are yong blood')"
   ]
  },
  {
   "cell_type": "code",
   "execution_count": 8,
   "id": "ac5297f2-511a-449c-ad61-3dbc61814f8f",
   "metadata": {},
   "outputs": [
    {
     "name": "stdin",
     "output_type": "stream",
     "text": [
      "Enter the age 46\n"
     ]
    }
   ],
   "source": [
    "age=int(input(\"Enter the age\"))\n",
    "if age>=18 and age <=45:\n",
    "    print('You are Young blood')"
   ]
  },
  {
   "cell_type": "code",
   "execution_count": 9,
   "id": "db54c54d-58af-43e9-8c70-c1bd0d0f0d61",
   "metadata": {},
   "outputs": [
    {
     "data": {
      "text/plain": [
       "True"
      ]
     },
     "execution_count": 9,
     "metadata": {},
     "output_type": "execute_result"
    }
   ],
   "source": [
    "22<=22"
   ]
  },
  {
   "cell_type": "markdown",
   "id": "6b3b9e79-2434-4224-b9d0-50fe1991f2d3",
   "metadata": {},
   "source": [
    "## Cntrol Flow "
   ]
  },
  {
   "cell_type": "markdown",
   "id": "773c8d72-f538-4b82-ba7f-7bf233e02971",
   "metadata": {},
   "source": [
    "## Decission Making Statement"
   ]
  },
  {
   "cell_type": "code",
   "execution_count": 4,
   "id": "19c99c7d-ea54-4c2f-b15f-da194910485c",
   "metadata": {},
   "outputs": [
    {
     "name": "stdin",
     "output_type": "stream",
     "text": [
      "Enter the age 17\n"
     ]
    }
   ],
   "source": [
    "age=int(input(\"Enter the age\"))\n",
    "if age>=20 and age <=45:\n",
    "    print('You are elegible for this job')"
   ]
  },
  {
   "cell_type": "code",
   "execution_count": 5,
   "id": "a052f42b-d128-4e81-80f7-d25737b35abb",
   "metadata": {},
   "outputs": [
    {
     "data": {
      "text/plain": [
       "True"
      ]
     },
     "execution_count": 5,
     "metadata": {},
     "output_type": "execute_result"
    }
   ],
   "source": [
    "22>=20 and 22<=45"
   ]
  },
  {
   "cell_type": "code",
   "execution_count": 6,
   "id": "fed3b2dd-481f-4bbb-9f9e-0029b0de67ea",
   "metadata": {},
   "outputs": [
    {
     "data": {
      "text/plain": [
       "False"
      ]
     },
     "execution_count": 6,
     "metadata": {},
     "output_type": "execute_result"
    }
   ],
   "source": [
    "22>22"
   ]
  },
  {
   "cell_type": "code",
   "execution_count": 9,
   "id": "069d0227-92e5-41a4-81dd-7b916dde08ea",
   "metadata": {},
   "outputs": [
    {
     "data": {
      "text/plain": [
       "False"
      ]
     },
     "execution_count": 9,
     "metadata": {},
     "output_type": "execute_result"
    }
   ],
   "source": [
    "22>45"
   ]
  },
  {
   "cell_type": "markdown",
   "id": "c6b61026-af8c-47cc-b7bd-ff81357960df",
   "metadata": {},
   "source": [
    "## If else Statement"
   ]
  },
  {
   "cell_type": "code",
   "execution_count": 15,
   "id": "6ea99ab1-f5a4-4460-94ea-1c8db34150f3",
   "metadata": {},
   "outputs": [
    {
     "name": "stdin",
     "output_type": "stream",
     "text": [
      "Enter the age 32\n"
     ]
    },
    {
     "name": "stdout",
     "output_type": "stream",
     "text": [
      "You are elegible for this job\n"
     ]
    }
   ],
   "source": [
    "age=int(input(\"Enter the age\"))\n",
    "if age>=20 and age <=45:\n",
    "    print(\"You are elegible for this job\")\n",
    "else:\n",
    "        print(\"Thank you for concern we will let you know\")"
   ]
  },
  {
   "cell_type": "code",
   "execution_count": 16,
   "id": "32a4f2e8-32ef-4118-9a65-b6d3a473e323",
   "metadata": {},
   "outputs": [
    {
     "name": "stdin",
     "output_type": "stream",
     "text": [
      "Enter the age 56\n"
     ]
    },
    {
     "name": "stdout",
     "output_type": "stream",
     "text": [
      "Thank you for concern we will let you know\n"
     ]
    }
   ],
   "source": [
    "age=int(input(\"Enter the age\"))\n",
    "if age>=20 and age <=45:\n",
    "    print(\"You are elegible for this job\")\n",
    "else:\n",
    "        print(\"Thank you for concern we will let you know\")"
   ]
  },
  {
   "cell_type": "code",
   "execution_count": null,
   "id": "c7d5d534-77b4-4e35-bd4f-99de787e1bdd",
   "metadata": {},
   "outputs": [],
   "source": [
    "## mall - input the product price\n",
    "## product >1000 rs 20% off\n",
    "## print the product price after removing the discount\n",
    "## product <=1000 rs 30% off\n",
    "## print the product price after removing the discount\n"
   ]
  },
  {
   "cell_type": "code",
   "execution_count": 30,
   "id": "61a45e76-7176-4d73-ad31-32f51549e0c8",
   "metadata": {},
   "outputs": [
    {
     "name": "stdin",
     "output_type": "stream",
     "text": [
      "Enter the price 10\n"
     ]
    },
    {
     "name": "stdout",
     "output_type": "stream",
     "text": [
      "The price of product is 7.0\n"
     ]
    }
   ],
   "source": [
    "product_price=int(input(\"Enter the price\"))\n",
    "if product_price>1000:\n",
    "    print(f\"The price of the product is {product_price*0.8}\")\n",
    "else:\n",
    "    print(f\"The price of product is {product_price*0.7}\")           "
   ]
  },
  {
   "cell_type": "code",
   "execution_count": 34,
   "id": "ef96071a-512b-4aae-92d4-50c077160233",
   "metadata": {},
   "outputs": [
    {
     "data": {
      "text/plain": [
       "0"
      ]
     },
     "execution_count": 34,
     "metadata": {},
     "output_type": "execute_result"
    }
   ],
   "source": [
    "int((20/1000)*10)"
   ]
  },
  {
   "cell_type": "code",
   "execution_count": 31,
   "id": "efae32ea-5343-43d1-9733-a1b3bd6a8ef3",
   "metadata": {},
   "outputs": [
    {
     "name": "stdin",
     "output_type": "stream",
     "text": [
      "Enter the price 100\n"
     ]
    },
    {
     "name": "stdout",
     "output_type": "stream",
     "text": [
      "The price of product is 70.0\n"
     ]
    }
   ],
   "source": [
    "product_price=int(input(\"Enter the price\"))\n",
    "if product_price>1000:\n",
    "    print(f\"The price of the product is {product_price*0.8}\")\n",
    "else:\n",
    "    print(f\"The price of product is {product_price*0.7}\")     "
   ]
  },
  {
   "cell_type": "code",
   "execution_count": 33,
   "id": "6505408c-48ce-4c24-a441-02cb3a30f7e8",
   "metadata": {},
   "outputs": [
    {
     "data": {
      "text/plain": [
       "20"
      ]
     },
     "execution_count": 33,
     "metadata": {},
     "output_type": "execute_result"
    }
   ],
   "source": [
    "int((20/1000)*1000)"
   ]
  },
  {
   "cell_type": "code",
   "execution_count": 32,
   "id": "87af5cd0-16a1-4b40-b6d2-27444d48ef57",
   "metadata": {},
   "outputs": [
    {
     "name": "stdin",
     "output_type": "stream",
     "text": [
      "Enter the price 5000\n"
     ]
    },
    {
     "name": "stdout",
     "output_type": "stream",
     "text": [
      "The price of the product is 4000.0\n"
     ]
    }
   ],
   "source": [
    "product_price=int(input(\"Enter the price\"))\n",
    "if product_price>1000:\n",
    "    print(f\"The price of the product is {product_price*0.8}\")\n",
    "else:\n",
    "    print(f\"The price of product is {product_price*0.7}\")     "
   ]
  },
  {
   "cell_type": "code",
   "execution_count": null,
   "id": "d70cc574-ad2b-4317-8fa4-52bd6c33d0eb",
   "metadata": {},
   "outputs": [],
   "source": []
  },
  {
   "cell_type": "code",
   "execution_count": null,
   "id": "9cbfa0bf-deff-4155-ae2d-fdc7c34c2590",
   "metadata": {},
   "outputs": [],
   "source": [
    "## mall - input the product price\n",
    "## product >3000 rs 20% off\n",
    "## price is ==4000 you get a trip to Goa\n",
    "## print the product price after removing the discount\n",
    "## product >=2000 rs and <=3000 30% off\n",
    "## print the product price after removing the discount\n",
    "## price ==2999  u will get adiitional gift\n",
    "## product 100 rs and <=2000 40% off\n",
    "## print the product price after removing the discount"
   ]
  },
  {
   "cell_type": "code",
   "execution_count": null,
   "id": "4278f7f4-df1f-4066-9ef8-501b3ec43253",
   "metadata": {},
   "outputs": [],
   "source": [
    "product_price=int(input(\"Enter the price\"))\n",
    "if product_price>3000:\n",
    "    print(f\"The price of product is {product_price*0.8}\")\n",
    "elif product_price>=2000 and product_price<=3000:\n",
    "    print(f\"The price of product is {product_price*0.7}\")\n",
    "elif product_price>=100 and product_price<=2000:\n",
    "          print(f\"The price of product is {product_price*0.6}\")\n",
    "else:\n",
    "    print('Lets drink a tea')\n",
    "          "
   ]
  },
  {
   "cell_type": "code",
   "execution_count": null,
   "id": "8d17c6cb-3987-4e10-a8df-881bb5133e1c",
   "metadata": {},
   "outputs": [],
   "source": [
    "## Single statement Suites\n",
    "val=int(input('Enter the number'))\n",
    "if(val<=999):print(\"Value is less than equal to 999\")\n",
    "else:\n",
    "     print(\"Go Home\")"
   ]
  },
  {
   "cell_type": "markdown",
   "id": "1763cae3-1952-4743-bb30-47f17a352ca1",
   "metadata": {},
   "source": [
    "## Loop statement\n",
    " ###   1.while loop\n",
    "  ### 2.for loop\n",
    "  ### 3.nested loop\n",
    "  ### 4.Loop Control"
   ]
  },
  {
   "cell_type": "code",
   "execution_count": 2,
   "id": "4c1c8c7c-d52f-4851-a7fa-21d973b487ac",
   "metadata": {},
   "outputs": [
    {
     "name": "stdout",
     "output_type": "stream",
     "text": [
      "20\n",
      "21\n",
      "22\n",
      "23\n",
      "24\n",
      "25\n",
      "26\n",
      "27\n",
      "28\n",
      "29\n",
      "30\n",
      "31\n",
      "32\n",
      "33\n",
      "34\n",
      "35\n",
      "36\n",
      "37\n",
      "38\n",
      "39\n",
      "40\n",
      "41\n",
      "42\n",
      "43\n",
      "44\n",
      "45\n",
      "46\n",
      "47\n",
      "48\n",
      "49\n",
      "50\n",
      "51\n",
      "52\n",
      "53\n",
      "54\n",
      "55\n",
      "56\n",
      "57\n",
      "58\n",
      "59\n",
      "60\n",
      "Its time for retirement \n"
     ]
    }
   ],
   "source": [
    "## while Loop\n",
    "joining_age=20\n",
    "while joining_age<=60:\n",
    "    print(joining_age)\n",
    "    joining_age=joining_age+1\n",
    "else:\n",
    "    print(\"Its time for retirement \")"
   ]
  },
  {
   "cell_type": "code",
   "execution_count": 1,
   "id": "0b34d437-f81f-4210-b596-739428308a27",
   "metadata": {},
   "outputs": [
    {
     "name": "stdout",
     "output_type": "stream",
     "text": [
      "1000\n",
      "900\n",
      "800\n",
      "700\n",
      "600\n",
      "500\n",
      "400\n",
      "300\n",
      "200\n",
      "100\n",
      "Put more money bank people\n",
      "Hello All\n"
     ]
    }
   ],
   "source": [
    "### Atm machine with 1000 rs\n",
    "total_amount=1000\n",
    "while total_amount!=0:\n",
    "    print(total_amount)\n",
    "    total_amount=total_amount-100\n",
    "else:\n",
    "    print(\"Put more money bank people\")\n",
    "    \n",
    "print(\"Hello All\")"
   ]
  },
  {
   "cell_type": "code",
   "execution_count": 3,
   "id": "935e3016-a38e-4fb4-9dda-98a46d55d1dd",
   "metadata": {},
   "outputs": [],
   "source": [
    "lst=[\"Enam\",1,2,3,4,5,\"apple\",\"banana\"]"
   ]
  },
  {
   "cell_type": "code",
   "execution_count": 5,
   "id": "d76ccb9e-c5e1-479c-9a83-c58d29770317",
   "metadata": {},
   "outputs": [
    {
     "data": {
      "text/plain": [
       "list"
      ]
     },
     "execution_count": 5,
     "metadata": {},
     "output_type": "execute_result"
    }
   ],
   "source": [
    "type(lst)"
   ]
  },
  {
   "cell_type": "code",
   "execution_count": 7,
   "id": "038c8d70-c051-4cb7-8e00-bfebb1405c86",
   "metadata": {},
   "outputs": [
    {
     "data": {
      "text/plain": [
       "5"
      ]
     },
     "execution_count": 7,
     "metadata": {},
     "output_type": "execute_result"
    }
   ],
   "source": [
    "lst[5]"
   ]
  },
  {
   "cell_type": "code",
   "execution_count": 8,
   "id": "c365ae93-d5dd-4694-b096-53a674d424cc",
   "metadata": {},
   "outputs": [
    {
     "data": {
      "text/plain": [
       "'Enam'"
      ]
     },
     "execution_count": 8,
     "metadata": {},
     "output_type": "execute_result"
    }
   ],
   "source": [
    "lst[0]"
   ]
  },
  {
   "cell_type": "code",
   "execution_count": 10,
   "id": "c07b5724-cc45-4e14-a526-32356727b997",
   "metadata": {},
   "outputs": [
    {
     "data": {
      "text/plain": [
       "'banana'"
      ]
     },
     "execution_count": 10,
     "metadata": {},
     "output_type": "execute_result"
    }
   ],
   "source": [
    "lst[7]"
   ]
  },
  {
   "cell_type": "code",
   "execution_count": 12,
   "id": "1f4f54af-89ce-49d0-ae16-94142e53c78d",
   "metadata": {},
   "outputs": [
    {
     "data": {
      "text/plain": [
       "['Enam', 1, 2, 3, 4, 5, 'apple', 'banana']"
      ]
     },
     "execution_count": 12,
     "metadata": {},
     "output_type": "execute_result"
    }
   ],
   "source": [
    "[\"Enam\",1,2,3,4,5,\"apple\",\"banana\"]"
   ]
  },
  {
   "cell_type": "code",
   "execution_count": 17,
   "id": "b8085e12-ced0-400f-a409-64234c51727f",
   "metadata": {},
   "outputs": [
    {
     "name": "stdout",
     "output_type": "stream",
     "text": [
      "Enam\n",
      "1\n",
      "2\n",
      "3\n",
      "4\n",
      "5\n",
      "apple\n",
      "banana\n"
     ]
    }
   ],
   "source": [
    "for x in lst:\n",
    "    print(x)"
   ]
  },
  {
   "cell_type": "code",
   "execution_count": 21,
   "id": "bc0ad948-d32a-424b-942b-07c94b4531c0",
   "metadata": {},
   "outputs": [
    {
     "name": "stdout",
     "output_type": "stream",
     "text": [
      "banana\n"
     ]
    }
   ],
   "source": [
    "print(x)"
   ]
  },
  {
   "cell_type": "code",
   "execution_count": 28,
   "id": "25cb00d5-2a07-4a72-9f1c-2e92209e5726",
   "metadata": {},
   "outputs": [],
   "source": [
    "fruits_list=[\"apple\",\"mango\",\"orange\",\"papaya\"]"
   ]
  },
  {
   "cell_type": "code",
   "execution_count": 39,
   "id": "1f486a7e-6596-4029-8324-f2cbaa1193fd",
   "metadata": {},
   "outputs": [
    {
     "name": "stdout",
     "output_type": "stream",
     "text": [
      "apple\n",
      "mango\n",
      "orange\n",
      "papaya\n",
      "The fruit papaya is very healthy and eat as a vegetables also in our india \n"
     ]
    }
   ],
   "source": [
    "for y in fruits_list:\n",
    "    print(y)\n",
    "    if y==\"papaya\":\n",
    "        print(\"The fruit papaya is very healthy and eat as a vegetables also in our india \")"
   ]
  },
  {
   "cell_type": "code",
   "execution_count": 41,
   "id": "d1c27042-a9c2-43f2-baf7-987a080ebf65",
   "metadata": {},
   "outputs": [
    {
     "name": "stdout",
     "output_type": "stream",
     "text": [
      "apple\n",
      "The fruit apple is very healthy and one of common high costly food in urban areas of india\n"
     ]
    }
   ],
   "source": [
    "for y in fruits_list:\n",
    "    print(y)\n",
    "    if y==\"apple\":\n",
    "        print(\"The fruit apple is very healthy and one of common high costly food in urban areas of india\")\n",
    "        break"
   ]
  },
  {
   "cell_type": "code",
   "execution_count": 42,
   "id": "db8f1aad-17cd-48c0-84cd-295e426a3e65",
   "metadata": {},
   "outputs": [
    {
     "name": "stdout",
     "output_type": "stream",
     "text": [
      "apple\n",
      "The fruit apple is very healthy and one of common high costly food in urban areas of india\n",
      "mango\n",
      "orange\n",
      "papaya\n"
     ]
    }
   ],
   "source": [
    "for y in fruits_list:\n",
    "    print(y)\n",
    "    if y==\"apple\":\n",
    "        print(\"The fruit apple is very healthy and one of common high costly food in urban areas of india\")\n",
    "        continue"
   ]
  },
  {
   "cell_type": "code",
   "execution_count": 43,
   "id": "664f9255-a3bf-4cc4-8c7b-c871943a875a",
   "metadata": {},
   "outputs": [
    {
     "name": "stdout",
     "output_type": "stream",
     "text": [
      "apple\n",
      "The fruit apple is very healthy and one of common high costly food in urban areas of india\n",
      "mango\n",
      "orange\n",
      "papaya\n"
     ]
    }
   ],
   "source": [
    "for y in fruits_list:\n",
    "    print(y)\n",
    "    if y==\"apple\":\n",
    "        print(\"The fruit apple is very healthy and one of common high costly food in urban areas of india\")\n",
    "        pass"
   ]
  },
  {
   "cell_type": "code",
   "execution_count": 45,
   "id": "4458dc4e-e0e7-4e5e-b2db-c7207252752e",
   "metadata": {},
   "outputs": [
    {
     "name": "stdout",
     "output_type": "stream",
     "text": [
      "apple\n",
      "mango\n",
      "orange\n",
      "The fruit orange is very healthy and one of common high costly food in urban areas of india\n",
      "papaya\n"
     ]
    }
   ],
   "source": [
    "for y in fruits_list:\n",
    "    print(y)\n",
    "    if y==\"orange\":\n",
    "        print(\"The fruit orange is very healthy and one of common high costly food in urban areas of india\")\n",
    "        pass"
   ]
  },
  {
   "cell_type": "code",
   "execution_count": 46,
   "id": "b6c00463-3e72-4798-b79a-981e840118fa",
   "metadata": {},
   "outputs": [
    {
     "name": "stdout",
     "output_type": "stream",
     "text": [
      "m\n",
      "a\n",
      "n\n",
      "g\n",
      "o\n"
     ]
    }
   ],
   "source": [
    "fruit=\"mango\"\n",
    "for x in fruit:\n",
    "    print(x)"
   ]
  },
  {
   "cell_type": "code",
   "execution_count": 49,
   "id": "bb228d02-904b-40e2-ab66-080e81a0d6ea",
   "metadata": {},
   "outputs": [
    {
     "data": {
      "text/plain": [
       "'o'"
      ]
     },
     "execution_count": 49,
     "metadata": {},
     "output_type": "execute_result"
    }
   ],
   "source": [
    "fruit[4]"
   ]
  },
  {
   "cell_type": "markdown",
   "id": "cc7903a4-1398-4888-825a-5e8b2abe271f",
   "metadata": {},
   "source": [
    "## Nested Loop"
   ]
  },
  {
   "cell_type": "code",
   "execution_count": null,
   "id": "dd0cad92-8539-4d9c-ba93-34f09f70738d",
   "metadata": {},
   "outputs": [],
   "source": [
    "## nested loop\n",
    "n=7"
   ]
  },
  {
   "cell_type": "code",
   "execution_count": 53,
   "id": "2524a542-ea2a-4b81-9573-7554cf89902b",
   "metadata": {},
   "outputs": [
    {
     "name": "stdout",
     "output_type": "stream",
     "text": [
      "1\n",
      "3\n",
      "5\n",
      "7\n",
      "9\n"
     ]
    }
   ],
   "source": [
    "## range\n",
    "for i in range(1,10,2):\n",
    "    print(i)"
   ]
  },
  {
   "cell_type": "code",
   "execution_count": 56,
   "id": "81b12935-4618-4d49-8d99-bd14fd1ffed2",
   "metadata": {},
   "outputs": [
    {
     "name": "stdout",
     "output_type": "stream",
     "text": [
      "2\n",
      "4\n",
      "6\n",
      "8\n",
      "10\n",
      "12\n",
      "14\n",
      "16\n",
      "18\n",
      "20\n",
      "22\n",
      "24\n",
      "26\n",
      "28\n",
      "30\n",
      "32\n",
      "34\n",
      "36\n",
      "38\n",
      "40\n",
      "42\n",
      "44\n",
      "46\n",
      "48\n",
      "50\n",
      "52\n",
      "54\n",
      "56\n",
      "58\n",
      "60\n",
      "62\n",
      "64\n",
      "66\n",
      "68\n",
      "70\n",
      "72\n",
      "74\n",
      "76\n",
      "78\n",
      "80\n",
      "82\n",
      "84\n",
      "86\n",
      "88\n",
      "90\n",
      "92\n",
      "94\n",
      "96\n",
      "98\n"
     ]
    }
   ],
   "source": [
    "## range\n",
    "for i in range(2,100,2):\n",
    "    print(i)"
   ]
  },
  {
   "cell_type": "code",
   "execution_count": 61,
   "id": "bd5fe270-de3f-41e1-897b-866ec0f37374",
   "metadata": {},
   "outputs": [
    {
     "name": "stdout",
     "output_type": "stream",
     "text": [
      "*\n",
      "**\n",
      "***\n",
      "****\n",
      "*****\n",
      "******\n",
      "*******\n"
     ]
    }
   ],
   "source": [
    "## range\n",
    "n=7\n",
    "for i in range(0,n):\n",
    "    for j in range(0,i+1):\n",
    "        print(\"*\",end=\"\")\n",
    "    print(\"\\r\")"
   ]
  },
  {
   "cell_type": "code",
   "execution_count": null,
   "id": "8e6fa238-3f8f-4309-9b3f-6361fbd390a8",
   "metadata": {},
   "outputs": [],
   "source": []
  },
  {
   "cell_type": "code",
   "execution_count": null,
   "id": "17da647a-4725-4501-9dd3-ffd3b328e6a1",
   "metadata": {},
   "outputs": [],
   "source": []
  },
  {
   "cell_type": "code",
   "execution_count": null,
   "id": "068c12d5-52cc-4d16-a7a6-35e0f7123adc",
   "metadata": {},
   "outputs": [],
   "source": []
  },
  {
   "cell_type": "code",
   "execution_count": null,
   "id": "678263eb-f6f6-47a4-8802-3b8f856d67cd",
   "metadata": {},
   "outputs": [],
   "source": []
  },
  {
   "cell_type": "code",
   "execution_count": null,
   "id": "d30fe149-96c2-4248-900c-7236619d98dc",
   "metadata": {},
   "outputs": [],
   "source": []
  },
  {
   "cell_type": "code",
   "execution_count": null,
   "id": "432c64d5-6779-4f55-be58-5702fbe5f7a4",
   "metadata": {},
   "outputs": [],
   "source": []
  },
  {
   "cell_type": "code",
   "execution_count": null,
   "id": "e7013688-4802-4f3b-8b2c-0e5fdc173dd0",
   "metadata": {},
   "outputs": [],
   "source": []
  },
  {
   "cell_type": "code",
   "execution_count": null,
   "id": "e212dfe8-f9c9-4d75-ae79-3b05450b293e",
   "metadata": {},
   "outputs": [],
   "source": []
  },
  {
   "cell_type": "code",
   "execution_count": null,
   "id": "81207680-4f4f-4c72-81b9-0f04da2050a6",
   "metadata": {},
   "outputs": [],
   "source": []
  }
 ],
 "metadata": {
  "kernelspec": {
   "display_name": "Python 3 (ipykernel)",
   "language": "python",
   "name": "python3"
  },
  "language_info": {
   "codemirror_mode": {
    "name": "ipython",
    "version": 3
   },
   "file_extension": ".py",
   "mimetype": "text/x-python",
   "name": "python",
   "nbconvert_exporter": "python",
   "pygments_lexer": "ipython3",
   "version": "3.10.8"
  }
 },
 "nbformat": 4,
 "nbformat_minor": 5
}
